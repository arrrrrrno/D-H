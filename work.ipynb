{
 "cells": [
  {
   "cell_type": "code",
   "execution_count": 7,
   "metadata": {
    "collapsed": true
   },
   "outputs": [
    {
     "data": {
      "text/plain": "(10, 10)"
     },
     "execution_count": 7,
     "metadata": {},
     "output_type": "execute_result"
    }
   ],
   "source": [
    "# D-H算法函数\n",
    "def D_H(p, g, A, B):\n",
    "    # 输入：p, g, A, B\n",
    "    # 输出：两人分别算出的Ks\n",
    "    alpha = g ** A % p\n",
    "    beta = g ** B % p\n",
    "    Ks1 = beta ** A % p\n",
    "    Ks2 = alpha ** B % p\n",
    "    return Ks1, Ks2\n",
    "# example\n",
    "D_H(11, 7, 3, 5)"
   ]
  },
  {
   "cell_type": "code",
   "execution_count": 8,
   "outputs": [],
   "source": [
    "# 创建p,g对列表\n",
    "p_g_l = [{'p': 101, 'g': 2}, {'p': 103, 'g': 5}, {'p': 107, 'g': 2}, {'p': 109, 'g': 6}, {'p': 113, 'g': 3},\n",
    "         {'p': 127, 'g': 3}, {'p': 131, 'g': 2}, {'p': 137, 'g': 3}, {'p': 139, 'g': 2}, {'p': 149, 'g': 2},\n",
    "         {'p': 151, 'g': 6}, {'p': 157, 'g': 5}, {'p': 163, 'g': 2}, {'p': 167, 'g': 5}, {'p': 173, 'g': 2},\n",
    "         {'p': 179, 'g': 2}, {'p': 181, 'g': 2}, {'p': 191, 'g': 19}, {'p': 193, 'g': 5}, {'p': 197, 'g': 2},\n",
    "         {'p': 199, 'g': 3}, {'p': 211, 'g': 2}, {'p': 223, 'g': 3}, {'p': 227, 'g': 2}, {'p': 229, 'g': 6},\n",
    "         {'p': 233, 'g': 3}, {'p': 239, 'g': 7}, {'p': 241, 'g': 7}, {'p': 251, 'g': 6}]"
   ],
   "metadata": {
    "collapsed": false
   }
  },
  {
   "cell_type": "code",
   "execution_count": 9,
   "outputs": [
    {
     "data": {
      "text/plain": "        p     g     A     B    Ks1    Ks2\n0   101.0   2.0  95.0  61.0   60.0   60.0\n1   103.0   5.0  12.0  27.0   79.0   79.0\n2   107.0   2.0  80.0  53.0    1.0    1.0\n3   109.0   6.0  18.0   2.0   63.0   63.0\n4   113.0   3.0  33.0  58.0   63.0   63.0\n5   127.0   3.0  50.0   5.0  113.0  113.0\n6   131.0   2.0  66.0  70.0   99.0   99.0\n7   137.0   3.0  65.0  26.0   68.0   68.0\n8   139.0   2.0  47.0  61.0   17.0   17.0\n9   149.0   2.0  62.0  37.0  148.0  148.0\n10  151.0   6.0   6.0   7.0   78.0   78.0\n11  157.0   5.0  19.0  86.0  105.0  105.0\n12  163.0   2.0  76.0  64.0   16.0   16.0\n13  167.0   5.0  64.0  51.0   98.0   98.0\n14  173.0   2.0  59.0  48.0  100.0  100.0\n15  179.0   2.0  86.0  51.0   13.0   13.0\n16  181.0   2.0  43.0  31.0   84.0   84.0\n17  191.0  19.0  47.0  17.0  168.0  168.0\n18  193.0   5.0  95.0  34.0   97.0   97.0\n19  197.0   2.0   7.0   9.0  129.0  129.0\n20  199.0   3.0  54.0  13.0   18.0   18.0\n21  211.0   2.0  40.0   4.0  161.0  161.0\n22  223.0   3.0  41.0  35.0  102.0  102.0\n23  227.0   2.0  74.0  37.0  173.0  173.0\n24  229.0   6.0  61.0  18.0  172.0  172.0\n25  233.0   3.0  91.0  59.0  193.0  193.0\n26  239.0   7.0  94.0  51.0   24.0   24.0\n27  241.0   7.0  40.0  54.0    1.0    1.0\n28  251.0   6.0  64.0  39.0   49.0   49.0",
      "text/html": "<div>\n<style scoped>\n    .dataframe tbody tr th:only-of-type {\n        vertical-align: middle;\n    }\n\n    .dataframe tbody tr th {\n        vertical-align: top;\n    }\n\n    .dataframe thead th {\n        text-align: right;\n    }\n</style>\n<table border=\"1\" class=\"dataframe\">\n  <thead>\n    <tr style=\"text-align: right;\">\n      <th></th>\n      <th>p</th>\n      <th>g</th>\n      <th>A</th>\n      <th>B</th>\n      <th>Ks1</th>\n      <th>Ks2</th>\n    </tr>\n  </thead>\n  <tbody>\n    <tr>\n      <th>0</th>\n      <td>101.0</td>\n      <td>2.0</td>\n      <td>95.0</td>\n      <td>61.0</td>\n      <td>60.0</td>\n      <td>60.0</td>\n    </tr>\n    <tr>\n      <th>1</th>\n      <td>103.0</td>\n      <td>5.0</td>\n      <td>12.0</td>\n      <td>27.0</td>\n      <td>79.0</td>\n      <td>79.0</td>\n    </tr>\n    <tr>\n      <th>2</th>\n      <td>107.0</td>\n      <td>2.0</td>\n      <td>80.0</td>\n      <td>53.0</td>\n      <td>1.0</td>\n      <td>1.0</td>\n    </tr>\n    <tr>\n      <th>3</th>\n      <td>109.0</td>\n      <td>6.0</td>\n      <td>18.0</td>\n      <td>2.0</td>\n      <td>63.0</td>\n      <td>63.0</td>\n    </tr>\n    <tr>\n      <th>4</th>\n      <td>113.0</td>\n      <td>3.0</td>\n      <td>33.0</td>\n      <td>58.0</td>\n      <td>63.0</td>\n      <td>63.0</td>\n    </tr>\n    <tr>\n      <th>5</th>\n      <td>127.0</td>\n      <td>3.0</td>\n      <td>50.0</td>\n      <td>5.0</td>\n      <td>113.0</td>\n      <td>113.0</td>\n    </tr>\n    <tr>\n      <th>6</th>\n      <td>131.0</td>\n      <td>2.0</td>\n      <td>66.0</td>\n      <td>70.0</td>\n      <td>99.0</td>\n      <td>99.0</td>\n    </tr>\n    <tr>\n      <th>7</th>\n      <td>137.0</td>\n      <td>3.0</td>\n      <td>65.0</td>\n      <td>26.0</td>\n      <td>68.0</td>\n      <td>68.0</td>\n    </tr>\n    <tr>\n      <th>8</th>\n      <td>139.0</td>\n      <td>2.0</td>\n      <td>47.0</td>\n      <td>61.0</td>\n      <td>17.0</td>\n      <td>17.0</td>\n    </tr>\n    <tr>\n      <th>9</th>\n      <td>149.0</td>\n      <td>2.0</td>\n      <td>62.0</td>\n      <td>37.0</td>\n      <td>148.0</td>\n      <td>148.0</td>\n    </tr>\n    <tr>\n      <th>10</th>\n      <td>151.0</td>\n      <td>6.0</td>\n      <td>6.0</td>\n      <td>7.0</td>\n      <td>78.0</td>\n      <td>78.0</td>\n    </tr>\n    <tr>\n      <th>11</th>\n      <td>157.0</td>\n      <td>5.0</td>\n      <td>19.0</td>\n      <td>86.0</td>\n      <td>105.0</td>\n      <td>105.0</td>\n    </tr>\n    <tr>\n      <th>12</th>\n      <td>163.0</td>\n      <td>2.0</td>\n      <td>76.0</td>\n      <td>64.0</td>\n      <td>16.0</td>\n      <td>16.0</td>\n    </tr>\n    <tr>\n      <th>13</th>\n      <td>167.0</td>\n      <td>5.0</td>\n      <td>64.0</td>\n      <td>51.0</td>\n      <td>98.0</td>\n      <td>98.0</td>\n    </tr>\n    <tr>\n      <th>14</th>\n      <td>173.0</td>\n      <td>2.0</td>\n      <td>59.0</td>\n      <td>48.0</td>\n      <td>100.0</td>\n      <td>100.0</td>\n    </tr>\n    <tr>\n      <th>15</th>\n      <td>179.0</td>\n      <td>2.0</td>\n      <td>86.0</td>\n      <td>51.0</td>\n      <td>13.0</td>\n      <td>13.0</td>\n    </tr>\n    <tr>\n      <th>16</th>\n      <td>181.0</td>\n      <td>2.0</td>\n      <td>43.0</td>\n      <td>31.0</td>\n      <td>84.0</td>\n      <td>84.0</td>\n    </tr>\n    <tr>\n      <th>17</th>\n      <td>191.0</td>\n      <td>19.0</td>\n      <td>47.0</td>\n      <td>17.0</td>\n      <td>168.0</td>\n      <td>168.0</td>\n    </tr>\n    <tr>\n      <th>18</th>\n      <td>193.0</td>\n      <td>5.0</td>\n      <td>95.0</td>\n      <td>34.0</td>\n      <td>97.0</td>\n      <td>97.0</td>\n    </tr>\n    <tr>\n      <th>19</th>\n      <td>197.0</td>\n      <td>2.0</td>\n      <td>7.0</td>\n      <td>9.0</td>\n      <td>129.0</td>\n      <td>129.0</td>\n    </tr>\n    <tr>\n      <th>20</th>\n      <td>199.0</td>\n      <td>3.0</td>\n      <td>54.0</td>\n      <td>13.0</td>\n      <td>18.0</td>\n      <td>18.0</td>\n    </tr>\n    <tr>\n      <th>21</th>\n      <td>211.0</td>\n      <td>2.0</td>\n      <td>40.0</td>\n      <td>4.0</td>\n      <td>161.0</td>\n      <td>161.0</td>\n    </tr>\n    <tr>\n      <th>22</th>\n      <td>223.0</td>\n      <td>3.0</td>\n      <td>41.0</td>\n      <td>35.0</td>\n      <td>102.0</td>\n      <td>102.0</td>\n    </tr>\n    <tr>\n      <th>23</th>\n      <td>227.0</td>\n      <td>2.0</td>\n      <td>74.0</td>\n      <td>37.0</td>\n      <td>173.0</td>\n      <td>173.0</td>\n    </tr>\n    <tr>\n      <th>24</th>\n      <td>229.0</td>\n      <td>6.0</td>\n      <td>61.0</td>\n      <td>18.0</td>\n      <td>172.0</td>\n      <td>172.0</td>\n    </tr>\n    <tr>\n      <th>25</th>\n      <td>233.0</td>\n      <td>3.0</td>\n      <td>91.0</td>\n      <td>59.0</td>\n      <td>193.0</td>\n      <td>193.0</td>\n    </tr>\n    <tr>\n      <th>26</th>\n      <td>239.0</td>\n      <td>7.0</td>\n      <td>94.0</td>\n      <td>51.0</td>\n      <td>24.0</td>\n      <td>24.0</td>\n    </tr>\n    <tr>\n      <th>27</th>\n      <td>241.0</td>\n      <td>7.0</td>\n      <td>40.0</td>\n      <td>54.0</td>\n      <td>1.0</td>\n      <td>1.0</td>\n    </tr>\n    <tr>\n      <th>28</th>\n      <td>251.0</td>\n      <td>6.0</td>\n      <td>64.0</td>\n      <td>39.0</td>\n      <td>49.0</td>\n      <td>49.0</td>\n    </tr>\n  </tbody>\n</table>\n</div>"
     },
     "execution_count": 9,
     "metadata": {},
     "output_type": "execute_result"
    }
   ],
   "source": [
    "import numpy as np\n",
    "import pandas as pd\n",
    "import random\n",
    "data = np.zeros((1,6))  # 放个1*6的全为0的ndarray方便后面拼接\n",
    "# 将结果转为DataFrame形式并存入csv文件\n",
    "for i in p_g_l:\n",
    "    # 随机生成双方私密整数\n",
    "    A = random.randint(1, 100)\n",
    "    B = random.randint(1, 100)\n",
    "    temp = np.array([[i['p'], i['g'], A, B, D_H(i['p'], i['g'], A, B)[0], D_H(i['p'], i['g'], A, B)[1]]])\n",
    "    # 拼接\n",
    "    data = np.vstack((data, temp))\n",
    "# 去掉全为0的第一行\n",
    "data = data[1:, :]\n",
    "# 转为DataFrame\n",
    "df = pd.DataFrame(data, columns=['p', 'g', 'A', 'B', 'Ks1', 'Ks2'])\n",
    "df"
   ],
   "metadata": {
    "collapsed": false
   }
  },
  {
   "cell_type": "code",
   "execution_count": 11,
   "outputs": [],
   "source": [
    "# 转为csv文件\n",
    "df.to_csv('result.csv')"
   ],
   "metadata": {
    "collapsed": false
   }
  }
 ],
 "metadata": {
  "kernelspec": {
   "display_name": "Python 3",
   "language": "python",
   "name": "python3"
  },
  "language_info": {
   "codemirror_mode": {
    "name": "ipython",
    "version": 2
   },
   "file_extension": ".py",
   "mimetype": "text/x-python",
   "name": "python",
   "nbconvert_exporter": "python",
   "pygments_lexer": "ipython2",
   "version": "2.7.6"
  }
 },
 "nbformat": 4,
 "nbformat_minor": 0
}
